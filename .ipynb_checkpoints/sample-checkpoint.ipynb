{
 "cells": [
  {
   "cell_type": "code",
   "execution_count": 1,
   "id": "fbc121e30a2defb3",
   "metadata": {
    "ExecuteTime": {
     "end_time": "2024-05-21T15:29:50.557621Z",
     "start_time": "2024-05-21T15:29:50.538274Z"
    }
   },
   "outputs": [],
   "source": [
    "import pandas as pd\n",
    "\n",
    "df = pd.read_spss(\"./data/Pair-15.sav\")  "
   ]
  },
  {
   "cell_type": "code",
   "execution_count": 2,
   "id": "762397e69690d018",
   "metadata": {
    "ExecuteTime": {
     "end_time": "2024-05-21T15:29:50.572202Z",
     "start_time": "2024-05-21T15:29:50.558763Z"
    }
   },
   "outputs": [
    {
     "data": {
      "text/html": [
       "<div>\n",
       "<style scoped>\n",
       "    .dataframe tbody tr th:only-of-type {\n",
       "        vertical-align: middle;\n",
       "    }\n",
       "\n",
       "    .dataframe tbody tr th {\n",
       "        vertical-align: top;\n",
       "    }\n",
       "\n",
       "    .dataframe thead th {\n",
       "        text-align: right;\n",
       "    }\n",
       "</style>\n",
       "<table border=\"1\" class=\"dataframe\">\n",
       "  <thead>\n",
       "    <tr style=\"text-align: right;\">\n",
       "      <th></th>\n",
       "      <th>id</th>\n",
       "      <th>x1</th>\n",
       "      <th>x2</th>\n",
       "      <th>x3</th>\n",
       "      <th>x4</th>\n",
       "      <th>x5</th>\n",
       "      <th>x6</th>\n",
       "      <th>x7</th>\n",
       "      <th>x8</th>\n",
       "      <th>x9</th>\n",
       "      <th>...</th>\n",
       "      <th>x14</th>\n",
       "      <th>x15</th>\n",
       "      <th>x16</th>\n",
       "      <th>x17</th>\n",
       "      <th>x18</th>\n",
       "      <th>x19</th>\n",
       "      <th>x20</th>\n",
       "      <th>x21</th>\n",
       "      <th>x22</th>\n",
       "      <th>x23</th>\n",
       "    </tr>\n",
       "  </thead>\n",
       "  <tbody>\n",
       "    <tr>\n",
       "      <th>0</th>\n",
       "      <td>21.0</td>\n",
       "      <td>1.0</td>\n",
       "      <td>0.0</td>\n",
       "      <td>0.0</td>\n",
       "      <td>1.0</td>\n",
       "      <td>0.0</td>\n",
       "      <td>5.2</td>\n",
       "      <td>3.8</td>\n",
       "      <td>7.1</td>\n",
       "      <td>5.2</td>\n",
       "      <td>...</td>\n",
       "      <td>7.1</td>\n",
       "      <td>4.6</td>\n",
       "      <td>3.3</td>\n",
       "      <td>4.9</td>\n",
       "      <td>3.3</td>\n",
       "      <td>5.4</td>\n",
       "      <td>5.5</td>\n",
       "      <td>7.0</td>\n",
       "      <td>50.1</td>\n",
       "      <td>0.0</td>\n",
       "    </tr>\n",
       "    <tr>\n",
       "      <th>1</th>\n",
       "      <td>22.0</td>\n",
       "      <td>3.0</td>\n",
       "      <td>1.0</td>\n",
       "      <td>1.0</td>\n",
       "      <td>1.0</td>\n",
       "      <td>1.0</td>\n",
       "      <td>9.6</td>\n",
       "      <td>5.7</td>\n",
       "      <td>6.8</td>\n",
       "      <td>5.9</td>\n",
       "      <td>...</td>\n",
       "      <td>6.4</td>\n",
       "      <td>6.5</td>\n",
       "      <td>4.3</td>\n",
       "      <td>3.0</td>\n",
       "      <td>4.3</td>\n",
       "      <td>9.9</td>\n",
       "      <td>9.6</td>\n",
       "      <td>9.9</td>\n",
       "      <td>70.1</td>\n",
       "      <td>1.0</td>\n",
       "    </tr>\n",
       "    <tr>\n",
       "      <th>2</th>\n",
       "      <td>23.0</td>\n",
       "      <td>2.0</td>\n",
       "      <td>0.0</td>\n",
       "      <td>0.0</td>\n",
       "      <td>0.0</td>\n",
       "      <td>1.0</td>\n",
       "      <td>8.6</td>\n",
       "      <td>3.6</td>\n",
       "      <td>7.4</td>\n",
       "      <td>5.1</td>\n",
       "      <td>...</td>\n",
       "      <td>6.7</td>\n",
       "      <td>6.0</td>\n",
       "      <td>4.8</td>\n",
       "      <td>3.4</td>\n",
       "      <td>4.0</td>\n",
       "      <td>7.0</td>\n",
       "      <td>7.1</td>\n",
       "      <td>8.1</td>\n",
       "      <td>60.1</td>\n",
       "      <td>0.0</td>\n",
       "    </tr>\n",
       "    <tr>\n",
       "      <th>3</th>\n",
       "      <td>24.0</td>\n",
       "      <td>3.0</td>\n",
       "      <td>0.0</td>\n",
       "      <td>1.0</td>\n",
       "      <td>1.0</td>\n",
       "      <td>1.0</td>\n",
       "      <td>9.3</td>\n",
       "      <td>2.4</td>\n",
       "      <td>2.6</td>\n",
       "      <td>7.2</td>\n",
       "      <td>...</td>\n",
       "      <td>6.4</td>\n",
       "      <td>4.2</td>\n",
       "      <td>6.7</td>\n",
       "      <td>4.4</td>\n",
       "      <td>4.5</td>\n",
       "      <td>8.6</td>\n",
       "      <td>8.1</td>\n",
       "      <td>8.0</td>\n",
       "      <td>65.1</td>\n",
       "      <td>1.0</td>\n",
       "    </tr>\n",
       "    <tr>\n",
       "      <th>4</th>\n",
       "      <td>25.0</td>\n",
       "      <td>1.0</td>\n",
       "      <td>0.0</td>\n",
       "      <td>0.0</td>\n",
       "      <td>1.0</td>\n",
       "      <td>0.0</td>\n",
       "      <td>6.0</td>\n",
       "      <td>4.1</td>\n",
       "      <td>5.3</td>\n",
       "      <td>4.7</td>\n",
       "      <td>...</td>\n",
       "      <td>6.5</td>\n",
       "      <td>3.9</td>\n",
       "      <td>4.7</td>\n",
       "      <td>5.3</td>\n",
       "      <td>4.0</td>\n",
       "      <td>4.8</td>\n",
       "      <td>4.9</td>\n",
       "      <td>5.5</td>\n",
       "      <td>55.1</td>\n",
       "      <td>0.0</td>\n",
       "    </tr>\n",
       "  </tbody>\n",
       "</table>\n",
       "<p>5 rows × 24 columns</p>\n",
       "</div>"
      ],
      "text/plain": [
       "     id   x1   x2   x3   x4   x5   x6   x7   x8   x9  ...  x14  x15  x16  x17  \\\n",
       "0  21.0  1.0  0.0  0.0  1.0  0.0  5.2  3.8  7.1  5.2  ...  7.1  4.6  3.3  4.9   \n",
       "1  22.0  3.0  1.0  1.0  1.0  1.0  9.6  5.7  6.8  5.9  ...  6.4  6.5  4.3  3.0   \n",
       "2  23.0  2.0  0.0  0.0  0.0  1.0  8.6  3.6  7.4  5.1  ...  6.7  6.0  4.8  3.4   \n",
       "3  24.0  3.0  0.0  1.0  1.0  1.0  9.3  2.4  2.6  7.2  ...  6.4  4.2  6.7  4.4   \n",
       "4  25.0  1.0  0.0  0.0  1.0  0.0  6.0  4.1  5.3  4.7  ...  6.5  3.9  4.7  5.3   \n",
       "\n",
       "   x18  x19  x20  x21   x22  x23  \n",
       "0  3.3  5.4  5.5  7.0  50.1  0.0  \n",
       "1  4.3  9.9  9.6  9.9  70.1  1.0  \n",
       "2  4.0  7.0  7.1  8.1  60.1  0.0  \n",
       "3  4.5  8.6  8.1  8.0  65.1  1.0  \n",
       "4  4.0  4.8  4.9  5.5  55.1  0.0  \n",
       "\n",
       "[5 rows x 24 columns]"
      ]
     },
     "execution_count": 2,
     "metadata": {},
     "output_type": "execute_result"
    }
   ],
   "source": [
    "df.head()"
   ]
  },
  {
   "cell_type": "markdown",
   "id": "915ecfe2c7b21f65",
   "metadata": {},
   "source": [
    "# Renaming Columns"
   ]
  },
  {
   "cell_type": "code",
   "execution_count": 3,
   "id": "4a90e92d7e31b74",
   "metadata": {
    "ExecuteTime": {
     "end_time": "2024-05-21T15:29:50.582599Z",
     "start_time": "2024-05-21T15:29:50.573102Z"
    }
   },
   "outputs": [
    {
     "data": {
      "text/html": [
       "<div>\n",
       "<style scoped>\n",
       "    .dataframe tbody tr th:only-of-type {\n",
       "        vertical-align: middle;\n",
       "    }\n",
       "\n",
       "    .dataframe tbody tr th {\n",
       "        vertical-align: top;\n",
       "    }\n",
       "\n",
       "    .dataframe thead th {\n",
       "        text-align: right;\n",
       "    }\n",
       "</style>\n",
       "<table border=\"1\" class=\"dataframe\">\n",
       "  <thead>\n",
       "    <tr style=\"text-align: right;\">\n",
       "      <th></th>\n",
       "      <th>id</th>\n",
       "      <th>Customer_Type</th>\n",
       "      <th>Industry_Type</th>\n",
       "      <th>Firm_Size</th>\n",
       "      <th>Region</th>\n",
       "      <th>Distribution_System</th>\n",
       "      <th>Product_Quality</th>\n",
       "      <th>E_Commerce</th>\n",
       "      <th>Technical_Support</th>\n",
       "      <th>Complaint_Resolution</th>\n",
       "      <th>...</th>\n",
       "      <th>Warranty_Claims</th>\n",
       "      <th>New_Products</th>\n",
       "      <th>Ordering_Billing</th>\n",
       "      <th>Price_Flexibility</th>\n",
       "      <th>Delivery_Speed</th>\n",
       "      <th>Satisfaction</th>\n",
       "      <th>Likelihood_Recommend</th>\n",
       "      <th>Likelihood_Future_Purchase</th>\n",
       "      <th>Current_Purchase_Level</th>\n",
       "      <th>Consider_Strategic_Alliance</th>\n",
       "    </tr>\n",
       "  </thead>\n",
       "  <tbody>\n",
       "    <tr>\n",
       "      <th>0</th>\n",
       "      <td>21.0</td>\n",
       "      <td>1.0</td>\n",
       "      <td>0.0</td>\n",
       "      <td>0.0</td>\n",
       "      <td>1.0</td>\n",
       "      <td>0.0</td>\n",
       "      <td>5.2</td>\n",
       "      <td>3.8</td>\n",
       "      <td>7.1</td>\n",
       "      <td>5.2</td>\n",
       "      <td>...</td>\n",
       "      <td>7.1</td>\n",
       "      <td>4.6</td>\n",
       "      <td>3.3</td>\n",
       "      <td>4.9</td>\n",
       "      <td>3.3</td>\n",
       "      <td>5.4</td>\n",
       "      <td>5.5</td>\n",
       "      <td>7.0</td>\n",
       "      <td>50.1</td>\n",
       "      <td>0.0</td>\n",
       "    </tr>\n",
       "    <tr>\n",
       "      <th>1</th>\n",
       "      <td>22.0</td>\n",
       "      <td>3.0</td>\n",
       "      <td>1.0</td>\n",
       "      <td>1.0</td>\n",
       "      <td>1.0</td>\n",
       "      <td>1.0</td>\n",
       "      <td>9.6</td>\n",
       "      <td>5.7</td>\n",
       "      <td>6.8</td>\n",
       "      <td>5.9</td>\n",
       "      <td>...</td>\n",
       "      <td>6.4</td>\n",
       "      <td>6.5</td>\n",
       "      <td>4.3</td>\n",
       "      <td>3.0</td>\n",
       "      <td>4.3</td>\n",
       "      <td>9.9</td>\n",
       "      <td>9.6</td>\n",
       "      <td>9.9</td>\n",
       "      <td>70.1</td>\n",
       "      <td>1.0</td>\n",
       "    </tr>\n",
       "    <tr>\n",
       "      <th>2</th>\n",
       "      <td>23.0</td>\n",
       "      <td>2.0</td>\n",
       "      <td>0.0</td>\n",
       "      <td>0.0</td>\n",
       "      <td>0.0</td>\n",
       "      <td>1.0</td>\n",
       "      <td>8.6</td>\n",
       "      <td>3.6</td>\n",
       "      <td>7.4</td>\n",
       "      <td>5.1</td>\n",
       "      <td>...</td>\n",
       "      <td>6.7</td>\n",
       "      <td>6.0</td>\n",
       "      <td>4.8</td>\n",
       "      <td>3.4</td>\n",
       "      <td>4.0</td>\n",
       "      <td>7.0</td>\n",
       "      <td>7.1</td>\n",
       "      <td>8.1</td>\n",
       "      <td>60.1</td>\n",
       "      <td>0.0</td>\n",
       "    </tr>\n",
       "    <tr>\n",
       "      <th>3</th>\n",
       "      <td>24.0</td>\n",
       "      <td>3.0</td>\n",
       "      <td>0.0</td>\n",
       "      <td>1.0</td>\n",
       "      <td>1.0</td>\n",
       "      <td>1.0</td>\n",
       "      <td>9.3</td>\n",
       "      <td>2.4</td>\n",
       "      <td>2.6</td>\n",
       "      <td>7.2</td>\n",
       "      <td>...</td>\n",
       "      <td>6.4</td>\n",
       "      <td>4.2</td>\n",
       "      <td>6.7</td>\n",
       "      <td>4.4</td>\n",
       "      <td>4.5</td>\n",
       "      <td>8.6</td>\n",
       "      <td>8.1</td>\n",
       "      <td>8.0</td>\n",
       "      <td>65.1</td>\n",
       "      <td>1.0</td>\n",
       "    </tr>\n",
       "    <tr>\n",
       "      <th>4</th>\n",
       "      <td>25.0</td>\n",
       "      <td>1.0</td>\n",
       "      <td>0.0</td>\n",
       "      <td>0.0</td>\n",
       "      <td>1.0</td>\n",
       "      <td>0.0</td>\n",
       "      <td>6.0</td>\n",
       "      <td>4.1</td>\n",
       "      <td>5.3</td>\n",
       "      <td>4.7</td>\n",
       "      <td>...</td>\n",
       "      <td>6.5</td>\n",
       "      <td>3.9</td>\n",
       "      <td>4.7</td>\n",
       "      <td>5.3</td>\n",
       "      <td>4.0</td>\n",
       "      <td>4.8</td>\n",
       "      <td>4.9</td>\n",
       "      <td>5.5</td>\n",
       "      <td>55.1</td>\n",
       "      <td>0.0</td>\n",
       "    </tr>\n",
       "  </tbody>\n",
       "</table>\n",
       "<p>5 rows × 24 columns</p>\n",
       "</div>"
      ],
      "text/plain": [
       "     id  Customer_Type  Industry_Type  Firm_Size  Region  Distribution_System  \\\n",
       "0  21.0            1.0            0.0        0.0     1.0                  0.0   \n",
       "1  22.0            3.0            1.0        1.0     1.0                  1.0   \n",
       "2  23.0            2.0            0.0        0.0     0.0                  1.0   \n",
       "3  24.0            3.0            0.0        1.0     1.0                  1.0   \n",
       "4  25.0            1.0            0.0        0.0     1.0                  0.0   \n",
       "\n",
       "   Product_Quality  E_Commerce  Technical_Support  Complaint_Resolution  ...  \\\n",
       "0              5.2         3.8                7.1                   5.2  ...   \n",
       "1              9.6         5.7                6.8                   5.9  ...   \n",
       "2              8.6         3.6                7.4                   5.1  ...   \n",
       "3              9.3         2.4                2.6                   7.2  ...   \n",
       "4              6.0         4.1                5.3                   4.7  ...   \n",
       "\n",
       "   Warranty_Claims  New_Products  Ordering_Billing  Price_Flexibility  \\\n",
       "0              7.1           4.6               3.3                4.9   \n",
       "1              6.4           6.5               4.3                3.0   \n",
       "2              6.7           6.0               4.8                3.4   \n",
       "3              6.4           4.2               6.7                4.4   \n",
       "4              6.5           3.9               4.7                5.3   \n",
       "\n",
       "   Delivery_Speed  Satisfaction  Likelihood_Recommend  \\\n",
       "0             3.3           5.4                   5.5   \n",
       "1             4.3           9.9                   9.6   \n",
       "2             4.0           7.0                   7.1   \n",
       "3             4.5           8.6                   8.1   \n",
       "4             4.0           4.8                   4.9   \n",
       "\n",
       "   Likelihood_Future_Purchase  Current_Purchase_Level  \\\n",
       "0                         7.0                    50.1   \n",
       "1                         9.9                    70.1   \n",
       "2                         8.1                    60.1   \n",
       "3                         8.0                    65.1   \n",
       "4                         5.5                    55.1   \n",
       "\n",
       "   Consider_Strategic_Alliance  \n",
       "0                          0.0  \n",
       "1                          1.0  \n",
       "2                          0.0  \n",
       "3                          1.0  \n",
       "4                          0.0  \n",
       "\n",
       "[5 rows x 24 columns]"
      ]
     },
     "execution_count": 3,
     "metadata": {},
     "output_type": "execute_result"
    }
   ],
   "source": [
    "df.columns = ['id', 'Customer_Type', 'Industry_Type', 'Firm_Size', 'Region', 'Distribution_System',\n",
    "              'Product_Quality', 'E_Commerce', 'Technical_Support', 'Complaint_Resolution', \n",
    "              'Advertising', 'Product_Line', 'Salesforce_Image', 'Competitive_Pricing', \n",
    "              'Warranty_Claims', 'New_Products', 'Ordering_Billing', 'Price_Flexibility', \n",
    "              'Delivery_Speed', 'Satisfaction', 'Likelihood_Recommend', \n",
    "              'Likelihood_Future_Purchase', 'Current_Purchase_Level', 'Consider_Strategic_Alliance']\n",
    "\n",
    "df.head()"
   ]
  },
  {
   "cell_type": "markdown",
   "id": "b1e5f0d5fbfca07f",
   "metadata": {},
   "source": [
    "## 1. Correlation Analysis\n",
    "\n",
    "Hypothesis: There is a significant correlation between customer satisfaction (X19) and likelihood to recommend HBAT (X20).\n",
    "\n",
    "Variables:\n",
    "- X19: Customer Satisfaction (interval)\n",
    "- X20: Likelihood of Recommendation (interval)"
   ]
  },
  {
   "cell_type": "code",
   "execution_count": 4,
   "id": "7c2f9a787721b284",
   "metadata": {
    "ExecuteTime": {
     "end_time": "2024-05-21T15:29:50.741585Z",
     "start_time": "2024-05-21T15:29:50.583371Z"
    }
   },
   "outputs": [
    {
     "name": "stdout",
     "output_type": "stream",
     "text": [
      "Correlation coefficient: 0.8024131939585863\n",
      "P-value: 2.4472100974100128e-12\n"
     ]
    },
    {
     "data": {
      "image/png": "[encoded data removed]",
      "text/plain": [
       "<Figure size 640x480 with 1 Axes>"
      ]
     },
     "metadata": {},
     "output_type": "display_data"
    }
   ],
   "source": [
    "import seaborn as sns\n",
    "import matplotlib.pyplot as plt\n",
    "from scipy.stats import pearsonr\n",
    "\n",
    "# Calculate correlation\n",
    "corr, p_value = pearsonr(df['Satisfaction'], df['Likelihood_Recommend'])\n",
    "\n",
    "print(f\"Correlation coefficient: {corr}\")\n",
    "print(f\"P-value: {p_value}\")\n",
    "\n",
    "# Plot correlation\n",
    "sns.scatterplot(x='Satisfaction', y='Likelihood_Recommend', data=df)\n",
    "plt.title('Correlation between Satisfaction and Likelihood to Recommend')\n",
    "plt.show()"
   ]
  },
  {
   "cell_type": "markdown",
   "id": "db142cd1ff4303a6",
   "metadata": {},
   "source": [
    "## 2. Cross-tab (Chi-square) Analysis\n",
    "\n",
    "Hypothesis: There is an association between industry type (X2) and the type of distribution system used (X5).\n",
    "\n",
    "Variables:\n",
    "- x2: Industry Type (nominal)\n",
    "- x5: Distribution System (nominal)"
   ]
  },
  {
   "cell_type": "code",
   "execution_count": 5,
   "id": "5f40a8fb218cc0a4",
   "metadata": {
    "ExecuteTime": {
     "end_time": "2024-05-21T15:29:50.753045Z",
     "start_time": "2024-05-21T15:29:50.742557Z"
    }
   },
   "outputs": [
    {
     "name": "stdout",
     "output_type": "stream",
     "text": [
      "Chi-square statistic: 0.08680555555555555\n",
      "P-value: 0.7682782035458339\n",
      "Degrees of freedom: 1\n",
      "Expected frequencies:\n",
      "[[16.  9.]\n",
      " [16.  9.]]\n"
     ]
    }
   ],
   "source": [
    "from scipy.stats import chi2_contingency\n",
    "\n",
    "# Create contingency table\n",
    "contingency_table = pd.crosstab(df['Industry_Type'], df['Distribution_System'])\n",
    "\n",
    "# Perform Chi-square test\n",
    "chi2, p, dof, expected = chi2_contingency(contingency_table)\n",
    "\n",
    "print(f\"Chi-square statistic: {chi2}\")\n",
    "print(f\"P-value: {p}\")\n",
    "print(f\"Degrees of freedom: {dof}\")\n",
    "print(\"Expected frequencies:\")\n",
    "print(expected)\n"
   ]
  },
  {
   "cell_type": "markdown",
   "id": "9b0f4aa9eb09ea1a",
   "metadata": {},
   "source": [
    "## 3. Independent Samples t-test\n",
    "\n",
    "**Hypothesis:** The average likelihood of future purchase differs between customers who consider a strategic alliance/partnership with HBAT and those who do not.\n",
    "\n",
    "-   **Null Hypothesis (H0):** There is no significant difference in the average likelihood of future purchase between customers considering a strategic alliance/partnership with HBAT and those who do not.\n",
    "\n",
    "    -   μ1 = μ2 (where μ1 is the population mean likelihood of future purchase for customers considering a strategic alliance/partnership, and μ2 is the population mean likelihood of future purchase for customers not considering a strategic alliance/partnership)\n",
    "-   **Alternative Hypothesis (H1):** There is a significant difference in the average likelihood of future purchase between the two groups.\n",
    "\n",
    "    -   μ1 ≠ μ2 (the population means are not equal)\n",
    "\n",
    "### Variables for Independent Samples t-test\n",
    "\n",
    "-   **Group 1 (Consider Strategic Alliance/Partnership):**\n",
    "\n",
    "    -   **Grouping Variable:** Consider_Strategic_Alliance (Yes)\n",
    "-   **Group 2 (Do Not Consider Strategic Alliance/Partnership):**\n",
    "\n",
    "    -   **Grouping Variable:** Consider_Strategic_Alliance (No)\n",
    "-   **Dependent Variable:** Likelihood of Future Purchase"
   ]
  },
  {
   "cell_type": "code",
   "execution_count": 6,
   "id": "f32b34853035a7ab",
   "metadata": {
    "ExecuteTime": {
     "end_time": "2024-05-21T15:29:50.758287Z",
     "start_time": "2024-05-21T15:29:50.754168Z"
    }
   },
   "outputs": [
    {
     "name": "stdout",
     "output_type": "stream",
     "text": [
      "T-statistic: 6.897329167742462\n",
      "P-value: 1.056565423140144e-08\n"
     ]
    }
   ],
   "source": [
    "from scipy.stats import ttest_ind\n",
    "\n",
    "# Separate data into two groups\n",
    "consider_alliance = df[df['Consider_Strategic_Alliance'] == 1]['Likelihood_Future_Purchase']\n",
    "not_consider_alliance = df[df['Consider_Strategic_Alliance'] == 0]['Likelihood_Future_Purchase']\n",
    "\n",
    "# Perform t-test\n",
    "t_stat, p_value = ttest_ind(consider_alliance, not_consider_alliance)\n",
    "\n",
    "print(f\"T-statistic: {t_stat}\")\n",
    "print(f\"P-value: {p_value}\")"
   ]
  },
  {
   "cell_type": "code",
   "execution_count": 7,
   "id": "431ad9760487c717",
   "metadata": {
    "ExecuteTime": {
     "end_time": "2024-05-21T15:29:50.879179Z",
     "start_time": "2024-05-21T15:29:50.760694Z"
    }
   },
   "outputs": [
    {
     "name": "stderr",
     "output_type": "stream",
     "text": [
      "/Users/senaoz/anaconda3/lib/python3.11/site-packages/seaborn/_oldcore.py:1119: FutureWarning: use_inf_as_na option is deprecated and will be removed in a future version. Convert inf values to NaN before operating instead.\n",
      "  with pd.option_context('mode.use_inf_as_na', True):\n",
      "/Users/senaoz/anaconda3/lib/python3.11/site-packages/seaborn/_oldcore.py:1119: FutureWarning: use_inf_as_na option is deprecated and will be removed in a future version. Convert inf values to NaN before operating instead.\n",
      "  with pd.option_context('mode.use_inf_as_na', True):\n"
     ]
    },
    {
     "data": {
      "image/png": "[encoded data removed]",
      "text/plain": [
       "<Figure size 640x480 with 1 Axes>"
      ]
     },
     "metadata": {},
     "output_type": "display_data"
    }
   ],
   "source": [
    "# Plot the distribution of likelihood of future purchase for the two groups\n",
    "sns.histplot(consider_alliance, color='blue', label='Consider Strategic Alliance')\n",
    "sns.histplot(not_consider_alliance, color='orange', label='Do Not Consider Strategic Alliance')\n",
    "plt.title('Distribution of Likelihood of Future Purchase by Strategic Alliance Consideration')\n",
    "plt.legend()\n",
    "plt.show()"
   ]
  },
  {
   "cell_type": "code",
   "execution_count": 8,
   "id": "7caa4bbd778f094a",
   "metadata": {
    "ExecuteTime": {
     "end_time": "2024-05-21T15:29:50.883822Z",
     "start_time": "2024-05-21T15:29:50.880982Z"
    }
   },
   "outputs": [
    {
     "name": "stdout",
     "output_type": "stream",
     "text": [
      "Mean Likelihood of Future Purchase (Consider Strategic Alliance): 8.354166666666666\n",
      "Mean Likelihood of Future Purchase (Do Not Consider Strategic Alliance): 6.911538461538461\n"
     ]
    }
   ],
   "source": [
    "# Calculate the means for the two groups\n",
    "mean_consider_alliance = consider_alliance.mean()\n",
    "mean_not_consider_alliance = not_consider_alliance.mean()\n",
    "\n",
    "print(f\"Mean Likelihood of Future Purchase (Consider Strategic Alliance): {mean_consider_alliance}\")\n",
    "print(f\"Mean Likelihood of Future Purchase (Do Not Consider Strategic Alliance): {mean_not_consider_alliance}\")"
   ]
  },
  {
   "cell_type": "markdown",
   "id": "397169fe28d43ecc",
   "metadata": {},
   "source": [
    "#### Interpretation of Results\n",
    "With such a small p-value (much smaller than the typical significance level of 0.05), we reject the null hypothesis. Therefore, we can conclude that there is a significant difference in the average likelihood of future purchase between customers who consider a strategic alliance/partnership with HBAT and those who do not. The mean likelihood of future purchase for customers considering a strategic alliance/partnership is significantly different from the mean likelihood for customers who do not consider such an alliance.\n"
   ]
  },
  {
   "cell_type": "markdown",
   "id": "8f3578df0c4d3b8f",
   "metadata": {},
   "source": [
    "## 4. ANOVA \n",
    "\n",
    "Hypothesis: Customer satisfaction (X19) differs across different customer size categories (X3).\n",
    "\n",
    "Variables:\n",
    "- X3: Customer Size (nominal: small, medium, large)\n",
    "- X19: Customer Satisfaction (interva"
   ]
  },
  {
   "cell_type": "code",
   "execution_count": 9,
   "id": "33c3d3f2cbbe9f26",
   "metadata": {
    "ExecuteTime": {
     "end_time": "2024-05-21T15:29:51.165462Z",
     "start_time": "2024-05-21T15:29:50.884882Z"
    }
   },
   "outputs": [
    {
     "name": "stdout",
     "output_type": "stream",
     "text": [
      "                df   sum_sq   mean_sq         F    PR(>F)\n",
      "C(Firm_Size)   1.0   7.9520  7.952000  5.885266  0.019076\n",
      "Residual      48.0  64.8562  1.351171       NaN       NaN\n"
     ]
    }
   ],
   "source": [
    "import statsmodels.api as sm\n",
    "from statsmodels.formula.api import ols\n",
    "from statsmodels.stats.anova import anova_lm\n",
    "\n",
    "# Perform ANOVA\n",
    "model = ols('Satisfaction ~ C(Firm_Size)', data=df).fit()\n",
    "anova_table = anova_lm(model)\n",
    "\n",
    "print(anova_table)"
   ]
  },
  {
   "cell_type": "markdown",
   "id": "564f2552fe39478",
   "metadata": {},
   "source": [
    "## 5. Bivariate Linear Regression\n",
    "\n",
    "Hypothesis: Customer satisfaction (X19) can be predicted by product quality (X6)."
   ]
  },
  {
   "cell_type": "code",
   "execution_count": 10,
   "id": "1c05f455c7236acb",
   "metadata": {
    "ExecuteTime": {
     "end_time": "2024-05-21T15:29:51.174121Z",
     "start_time": "2024-05-21T15:29:51.166226Z"
    }
   },
   "outputs": [
    {
     "name": "stdout",
     "output_type": "stream",
     "text": [
      "                            OLS Regression Results                            \n",
      "==============================================================================\n",
      "Dep. Variable:           Satisfaction   R-squared:                       0.216\n",
      "Model:                            OLS   Adj. R-squared:                  0.200\n",
      "Method:                 Least Squares   F-statistic:                     13.24\n",
      "Date:                Tue, 21 May 2024   Prob (F-statistic):           0.000668\n",
      "Time:                        18:29:51   Log-Likelihood:                -74.251\n",
      "No. Observations:                  50   AIC:                             152.5\n",
      "Df Residuals:                      48   BIC:                             156.3\n",
      "Df Model:                           1                                         \n",
      "Covariance Type:            nonrobust                                         \n",
      "===================================================================================\n",
      "                      coef    std err          t      P>|t|      [0.025      0.975]\n",
      "-----------------------------------------------------------------------------------\n",
      "const               3.7835      0.872      4.340      0.000       2.031       5.536\n",
      "Product_Quality     0.4018      0.110      3.639      0.001       0.180       0.624\n",
      "==============================================================================\n",
      "Omnibus:                        3.894   Durbin-Watson:                   2.015\n",
      "Prob(Omnibus):                  0.143   Jarque-Bera (JB):                2.419\n",
      "Skew:                           0.331   Prob(JB):                        0.298\n",
      "Kurtosis:                       2.149   Cond. No.                         45.3\n",
      "==============================================================================\n",
      "\n",
      "Notes:\n",
      "[1] Standard Errors assume that the covariance matrix of the errors is correctly specified.\n"
     ]
    }
   ],
   "source": [
    "import statsmodels.api as sm\n",
    "\n",
    "# Define the dependent and independent variables\n",
    "X = df[['Product_Quality']]\n",
    "y = df['Satisfaction']\n",
    "\n",
    "# Add a constant to the independent variable matrix\n",
    "X = sm.add_constant(X)\n",
    "\n",
    "# Fit the regression model\n",
    "model = sm.OLS(y, X).fit()\n",
    "\n",
    "print(model.summary())"
   ]
  },
  {
   "cell_type": "markdown",
   "id": "935ca7790013075d",
   "metadata": {},
   "source": [
    "### Bivariate Linear Regression Results Interpretation\n",
    "\n",
    "The output provides insights into the relationship between customer satisfaction and product quality based on a bivariate linear regression analysis.\n",
    "\n",
    "-   **R-squared**: The coefficient of determination (R-squared) is 0.216, indicating that approximately 21.6% of the variability in customer satisfaction can be explained by product quality.\n",
    "\n",
    "-   **Coefficients**:\n",
    "\n",
    "    -   **Intercept (const)**: The baseline satisfaction score when product quality is zero is approximately 3.7835.\n",
    "    -   **Product Quality**: The coefficient for product quality is 0.4018, indicating that for each unit increase in product quality, there is an associated increase of approximately 0.4018 units in customer satisfaction.\n",
    "-   **Significance**:\n",
    "\n",
    "    -   **p-value for Product Quality**: The p-value associated with the coefficient for product quality is 0.001, which is less than the conventional significance level of 0.05. This suggests that product quality is a significant predictor of customer satisfaction.\n",
    "-   **Model Fit**:\n",
    "\n",
    "    -   **F-statistic**: The F-statistic is 13.24 with a corresponding p-value of 0.000668, indicating that the regression model as a whole is statistically significant in explaining the variability in customer satisfaction.\n",
    "-   **Adjusted R-squared**: The adjusted R-squared value is 0.200, which adjusts the R-squared value based on the number of predictors in the model. It provides a more accurate assessment of the model's goodness of fit when compared to the ordinary R-squared.\n",
    "\n",
    "-   **Other Statistics**:\n",
    "\n",
    "    -   **Omnibus, Durbin-Watson, Jarque-Bera, Skew, Kurtosis**: These statistics provide information about the residuals, including their normality and autocorrelation properties.\n",
    "\n",
    "Overall, the analysis suggests that product quality significantly influences customer satisfaction, with higher product quality associated with higher levels of satisfaction. However, it's important to consider other factors that may also impact customer satisfaction beyond product quality."
   ]
  },
  {
   "cell_type": "markdown",
   "id": "e92d2075593532dd",
   "metadata": {},
   "source": [
    "## 6. Multiple Linear Regression\n",
    "Hypothesis: Customer satisfaction can be predicted by product quality, technical support, and competitive pricing."
   ]
  },
  {
   "cell_type": "code",
   "execution_count": 11,
   "id": "d20bed4678cde9f3",
   "metadata": {
    "ExecuteTime": {
     "end_time": "2024-05-21T15:29:51.183407Z",
     "start_time": "2024-05-21T15:29:51.174943Z"
    }
   },
   "outputs": [
    {
     "name": "stdout",
     "output_type": "stream",
     "text": [
      "                            OLS Regression Results                            \n",
      "==============================================================================\n",
      "Dep. Variable:           Satisfaction   R-squared:                       0.227\n",
      "Model:                            OLS   Adj. R-squared:                  0.177\n",
      "Method:                 Least Squares   F-statistic:                     4.512\n",
      "Date:                Tue, 21 May 2024   Prob (F-statistic):            0.00741\n",
      "Time:                        18:29:51   Log-Likelihood:                -73.893\n",
      "No. Observations:                  50   AIC:                             155.8\n",
      "Df Residuals:                      46   BIC:                             163.4\n",
      "Df Model:                           3                                         \n",
      "Covariance Type:            nonrobust                                         \n",
      "=======================================================================================\n",
      "                          coef    std err          t      P>|t|      [0.025      0.975]\n",
      "---------------------------------------------------------------------------------------\n",
      "const                   3.0372      1.707      1.779      0.082      -0.400       6.474\n",
      "Product_Quality         0.4360      0.122      3.575      0.001       0.191       0.681\n",
      "Technical_Support      -0.0114      0.110     -0.104      0.918      -0.233       0.210\n",
      "Competitive_Pricing     0.0806      0.112      0.719      0.476      -0.145       0.306\n",
      "==============================================================================\n",
      "Omnibus:                        2.814   Durbin-Watson:                   1.983\n",
      "Prob(Omnibus):                  0.245   Jarque-Bera (JB):                2.161\n",
      "Skew:                           0.356   Prob(JB):                        0.339\n",
      "Kurtosis:                       2.271   Cond. No.                         129.\n",
      "==============================================================================\n",
      "\n",
      "Notes:\n",
      "[1] Standard Errors assume that the covariance matrix of the errors is correctly specified.\n"
     ]
    }
   ],
   "source": [
    "import statsmodels.api as sm\n",
    "\n",
    "# Define dependent and independent variables\n",
    "X = df[['Product_Quality', 'Technical_Support', 'Competitive_Pricing']]\n",
    "y = df['Satisfaction']\n",
    "\n",
    "# Add a constant to the independent variables matrix\n",
    "X = sm.add_constant(X)\n",
    "\n",
    "# Fit the regression model\n",
    "model = sm.OLS(y, X).fit()\n",
    "\n",
    "# Print the summary\n",
    "print(model.summary())"
   ]
  },
  {
   "cell_type": "markdown",
   "id": "ddc83fee2f622c",
   "metadata": {},
   "source": [
    "### Multiple Linear Regression Results Interpretation\n",
    "\n",
    "The output provides insights into the relationship between customer satisfaction and multiple predictors (product quality, technical support, and competitive pricing) based on a multiple linear regression analysis.\n",
    "\n",
    "-   **R-squared**: The coefficient of determination (R-squared) is 0.227, indicating that approximately 22.7% of the variability in customer satisfaction can be explained by the combination of product quality, technical support, and competitive pricing.\n",
    "\n",
    "-   **Adjusted R-squared**: The adjusted R-squared value is 0.177, which adjusts the R-squared value based on the number of predictors in the model. It provides a more accurate assessment of the model's goodness of fit when compared to the ordinary R-squared.\n",
    "\n",
    "-   **Coefficients**:\n",
    "\n",
    "    -   **Intercept (const)**: The baseline satisfaction score when all predictors are zero is approximately 3.0372.\n",
    "    -   **Product Quality**: The coefficient for product quality is 0.4360, indicating that for each unit increase in product quality, there is an associated increase of approximately 0.4360 units in customer satisfaction.\n",
    "    -   **Technical Support**: The coefficient for technical support is -0.0114, but its p-value is not significant (0.918), suggesting that technical support may not have a significant impact on customer satisfaction.\n",
    "    -   **Competitive Pricing**: The coefficient for competitive pricing is 0.0806, but its p-value is also not significant (0.476), suggesting that competitive pricing may not have a significant impact on customer satisfaction.\n",
    "-   **Significance**:\n",
    "\n",
    "    -   The overall model is statistically significant, with an F-statistic of 4.512 and a corresponding p-value of 0.00741.\n",
    "-   **Other Statistics**:\n",
    "\n",
    "    -   **Omnibus, Durbin-Watson, Jarque-Bera, Skew, Kurtosis**: These statistics provide information about the residuals, including their normality and autocorrelation properties.\n",
    "\n",
    "Overall, the analysis suggests that product quality significantly influences customer satisfaction, while technical support and competitive pricing may not have significant effects in this model. However, it's important to consider other factors that may also impact customer satisfaction beyond the variables included in this analysis."
   ]
  }
 ],
 "metadata": {
  "kernelspec": {
   "display_name": "Python 3 (ipykernel)",
   "language": "python",
   "name": "python3"
  },
  "language_info": {
   "codemirror_mode": {
    "name": "ipython",
    "version": 3
   },
   "file_extension": ".py",
   "mimetype": "text/x-python",
   "name": "python",
   "nbconvert_exporter": "python",
   "pygments_lexer": "ipython3",
   "version": "3.11.5"
  },
  "toc": {
   "base_numbering": 1,
   "nav_menu": {},
   "number_sections": true,
   "sideBar": true,
   "skip_h1_title": false,
   "title_cell": "Table of Contents",
   "title_sidebar": "Contents",
   "toc_cell": false,
   "toc_position": {},
   "toc_section_display": true,
   "toc_window_display": false
  }
 },
 "nbformat": 4,
 "nbformat_minor": 5
}
